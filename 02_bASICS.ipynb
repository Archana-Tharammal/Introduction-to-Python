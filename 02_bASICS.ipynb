{
  "nbformat": 4,
  "nbformat_minor": 0,
  "metadata": {
    "colab": {
      "provenance": [],
      "authorship_tag": "ABX9TyNHucL6FpqYh9U3ets+Me72",
      "include_colab_link": true
    },
    "kernelspec": {
      "name": "python3",
      "display_name": "Python 3"
    },
    "language_info": {
      "name": "python"
    }
  },
  "cells": [
    {
      "cell_type": "markdown",
      "metadata": {
        "id": "view-in-github",
        "colab_type": "text"
      },
      "source": [
        "<a href=\"https://colab.research.google.com/github/Archana-Tharammal/Introduction-to-Python/blob/main/02_bASICS.ipynb\" target=\"_parent\"><img src=\"https://colab.research.google.com/assets/colab-badge.svg\" alt=\"Open In Colab\"/></a>"
      ]
    },
    {
      "cell_type": "code",
      "execution_count": 1,
      "metadata": {
        "id": "Azrq4ZI_cDRR"
      },
      "outputs": [],
      "source": [
        "import pandas as pd"
      ]
    },
    {
      "cell_type": "code",
      "source": [
        "df=pd.read_csv(\"/content/Supermarket_sales.csv\")"
      ],
      "metadata": {
        "id": "1oHdNhfZeqya"
      },
      "execution_count": 2,
      "outputs": []
    },
    {
      "cell_type": "code",
      "source": [
        "print(df)"
      ],
      "metadata": {
        "colab": {
          "base_uri": "https://localhost:8080/"
        },
        "id": "1bo4q3B4hpqy",
        "outputId": "3d79e97d-6537-4a59-89e2-5db802a871bf"
      },
      "execution_count": 3,
      "outputs": [
        {
          "output_type": "stream",
          "name": "stdout",
          "text": [
            "       No    InvoiceID Branch       City Customertype  Gender  \\\n",
            "0       1  750-67-8428      A     Yangon       Member  Female   \n",
            "1       2  226-31-3081      C  Naypyitaw       Normal  Female   \n",
            "2       3  631-41-3108      A     Yangon       Normal    Male   \n",
            "3       4  123-19-1176      A     Yangon       Member    Male   \n",
            "4       5  373-73-7910      A     Yangon       Normal    Male   \n",
            "..    ...          ...    ...        ...          ...     ...   \n",
            "995   996  233-67-5758      C  Naypyitaw       Normal    Male   \n",
            "996   997  303-96-2227      B   Mandalay       Normal  Female   \n",
            "997   998  727-02-1313      A     Yangon       Member    Male   \n",
            "998   999  347-56-2442      A     Yangon       Normal    Male   \n",
            "999  1000  849-09-3807      A     Yangon       Member  Female   \n",
            "\n",
            "                Productline  Unitprice  Quantity      Tax      Total  \\\n",
            "0         Health and beauty      74.69         7  26.1415   548.9715   \n",
            "1    Electronic accessories      15.28         5   3.8200    80.2200   \n",
            "2        Home and lifestyle      46.33         7  16.2155   340.5255   \n",
            "3         Health and beauty      58.22         8  23.2880   489.0480   \n",
            "4         Sports and travel      86.31         7  30.2085   634.3785   \n",
            "..                      ...        ...       ...      ...        ...   \n",
            "995       Health and beauty      40.35         1   2.0175    42.3675   \n",
            "996      Home and lifestyle      97.38        10  48.6900  1022.4900   \n",
            "997      Food and beverages      31.84         1   1.5920    33.4320   \n",
            "998      Home and lifestyle      65.82         1   3.2910    69.1110   \n",
            "999     Fashion accessories      88.34         7  30.9190   649.2990   \n",
            "\n",
            "          Date   Time      Payment    cogs  gross_margin_percentage  \\\n",
            "0     1/5/2019  13:08      Ewallet  522.83                 4.761905   \n",
            "1     3/8/2019  10:29         Cash   76.40                 4.761905   \n",
            "2     3/3/2019  13:23  Credit card  324.31                 4.761905   \n",
            "3    1/27/2019  20:33      Ewallet  465.76                 4.761905   \n",
            "4     2/8/2019  10:37      Ewallet  604.17                 4.761905   \n",
            "..         ...    ...          ...     ...                      ...   \n",
            "995  1/29/2019  13:46      Ewallet   40.35                 4.761905   \n",
            "996   3/2/2019  17:16      Ewallet  973.80                 4.761905   \n",
            "997   2/9/2019  13:22         Cash   31.84                 4.761905   \n",
            "998  2/22/2019  15:33         Cash   65.82                 4.761905   \n",
            "999  2/18/2019  13:28         Cash  618.38                 4.761905   \n",
            "\n",
            "     gross_iincome  Rating  \n",
            "0          26.1415     9.1  \n",
            "1           3.8200     9.6  \n",
            "2          16.2155     7.4  \n",
            "3          23.2880     8.4  \n",
            "4          30.2085     5.3  \n",
            "..             ...     ...  \n",
            "995         2.0175     6.2  \n",
            "996        48.6900     4.4  \n",
            "997         1.5920     7.7  \n",
            "998         3.2910     4.1  \n",
            "999        30.9190     6.6  \n",
            "\n",
            "[1000 rows x 18 columns]\n"
          ]
        }
      ]
    },
    {
      "cell_type": "code",
      "source": [
        "df.head()"
      ],
      "metadata": {
        "colab": {
          "base_uri": "https://localhost:8080/",
          "height": 357
        },
        "id": "BRDQ4iWAh_HU",
        "outputId": "9418b8e7-1666-48c3-e121-de5153a36590"
      },
      "execution_count": 4,
      "outputs": [
        {
          "output_type": "execute_result",
          "data": {
            "text/plain": [
              "   No    InvoiceID Branch       City Customertype  Gender  \\\n",
              "0   1  750-67-8428      A     Yangon       Member  Female   \n",
              "1   2  226-31-3081      C  Naypyitaw       Normal  Female   \n",
              "2   3  631-41-3108      A     Yangon       Normal    Male   \n",
              "3   4  123-19-1176      A     Yangon       Member    Male   \n",
              "4   5  373-73-7910      A     Yangon       Normal    Male   \n",
              "\n",
              "              Productline  Unitprice  Quantity      Tax     Total       Date  \\\n",
              "0       Health and beauty      74.69         7  26.1415  548.9715   1/5/2019   \n",
              "1  Electronic accessories      15.28         5   3.8200   80.2200   3/8/2019   \n",
              "2      Home and lifestyle      46.33         7  16.2155  340.5255   3/3/2019   \n",
              "3       Health and beauty      58.22         8  23.2880  489.0480  1/27/2019   \n",
              "4       Sports and travel      86.31         7  30.2085  634.3785   2/8/2019   \n",
              "\n",
              "    Time      Payment    cogs  gross_margin_percentage  gross_iincome  Rating  \n",
              "0  13:08      Ewallet  522.83                 4.761905        26.1415     9.1  \n",
              "1  10:29         Cash   76.40                 4.761905         3.8200     9.6  \n",
              "2  13:23  Credit card  324.31                 4.761905        16.2155     7.4  \n",
              "3  20:33      Ewallet  465.76                 4.761905        23.2880     8.4  \n",
              "4  10:37      Ewallet  604.17                 4.761905        30.2085     5.3  "
            ],
            "text/html": [
              "\n",
              "  <div id=\"df-d72435fa-317a-4ae6-a4c6-1c2473135669\">\n",
              "    <div class=\"colab-df-container\">\n",
              "      <div>\n",
              "<style scoped>\n",
              "    .dataframe tbody tr th:only-of-type {\n",
              "        vertical-align: middle;\n",
              "    }\n",
              "\n",
              "    .dataframe tbody tr th {\n",
              "        vertical-align: top;\n",
              "    }\n",
              "\n",
              "    .dataframe thead th {\n",
              "        text-align: right;\n",
              "    }\n",
              "</style>\n",
              "<table border=\"1\" class=\"dataframe\">\n",
              "  <thead>\n",
              "    <tr style=\"text-align: right;\">\n",
              "      <th></th>\n",
              "      <th>No</th>\n",
              "      <th>InvoiceID</th>\n",
              "      <th>Branch</th>\n",
              "      <th>City</th>\n",
              "      <th>Customertype</th>\n",
              "      <th>Gender</th>\n",
              "      <th>Productline</th>\n",
              "      <th>Unitprice</th>\n",
              "      <th>Quantity</th>\n",
              "      <th>Tax</th>\n",
              "      <th>Total</th>\n",
              "      <th>Date</th>\n",
              "      <th>Time</th>\n",
              "      <th>Payment</th>\n",
              "      <th>cogs</th>\n",
              "      <th>gross_margin_percentage</th>\n",
              "      <th>gross_iincome</th>\n",
              "      <th>Rating</th>\n",
              "    </tr>\n",
              "  </thead>\n",
              "  <tbody>\n",
              "    <tr>\n",
              "      <th>0</th>\n",
              "      <td>1</td>\n",
              "      <td>750-67-8428</td>\n",
              "      <td>A</td>\n",
              "      <td>Yangon</td>\n",
              "      <td>Member</td>\n",
              "      <td>Female</td>\n",
              "      <td>Health and beauty</td>\n",
              "      <td>74.69</td>\n",
              "      <td>7</td>\n",
              "      <td>26.1415</td>\n",
              "      <td>548.9715</td>\n",
              "      <td>1/5/2019</td>\n",
              "      <td>13:08</td>\n",
              "      <td>Ewallet</td>\n",
              "      <td>522.83</td>\n",
              "      <td>4.761905</td>\n",
              "      <td>26.1415</td>\n",
              "      <td>9.1</td>\n",
              "    </tr>\n",
              "    <tr>\n",
              "      <th>1</th>\n",
              "      <td>2</td>\n",
              "      <td>226-31-3081</td>\n",
              "      <td>C</td>\n",
              "      <td>Naypyitaw</td>\n",
              "      <td>Normal</td>\n",
              "      <td>Female</td>\n",
              "      <td>Electronic accessories</td>\n",
              "      <td>15.28</td>\n",
              "      <td>5</td>\n",
              "      <td>3.8200</td>\n",
              "      <td>80.2200</td>\n",
              "      <td>3/8/2019</td>\n",
              "      <td>10:29</td>\n",
              "      <td>Cash</td>\n",
              "      <td>76.40</td>\n",
              "      <td>4.761905</td>\n",
              "      <td>3.8200</td>\n",
              "      <td>9.6</td>\n",
              "    </tr>\n",
              "    <tr>\n",
              "      <th>2</th>\n",
              "      <td>3</td>\n",
              "      <td>631-41-3108</td>\n",
              "      <td>A</td>\n",
              "      <td>Yangon</td>\n",
              "      <td>Normal</td>\n",
              "      <td>Male</td>\n",
              "      <td>Home and lifestyle</td>\n",
              "      <td>46.33</td>\n",
              "      <td>7</td>\n",
              "      <td>16.2155</td>\n",
              "      <td>340.5255</td>\n",
              "      <td>3/3/2019</td>\n",
              "      <td>13:23</td>\n",
              "      <td>Credit card</td>\n",
              "      <td>324.31</td>\n",
              "      <td>4.761905</td>\n",
              "      <td>16.2155</td>\n",
              "      <td>7.4</td>\n",
              "    </tr>\n",
              "    <tr>\n",
              "      <th>3</th>\n",
              "      <td>4</td>\n",
              "      <td>123-19-1176</td>\n",
              "      <td>A</td>\n",
              "      <td>Yangon</td>\n",
              "      <td>Member</td>\n",
              "      <td>Male</td>\n",
              "      <td>Health and beauty</td>\n",
              "      <td>58.22</td>\n",
              "      <td>8</td>\n",
              "      <td>23.2880</td>\n",
              "      <td>489.0480</td>\n",
              "      <td>1/27/2019</td>\n",
              "      <td>20:33</td>\n",
              "      <td>Ewallet</td>\n",
              "      <td>465.76</td>\n",
              "      <td>4.761905</td>\n",
              "      <td>23.2880</td>\n",
              "      <td>8.4</td>\n",
              "    </tr>\n",
              "    <tr>\n",
              "      <th>4</th>\n",
              "      <td>5</td>\n",
              "      <td>373-73-7910</td>\n",
              "      <td>A</td>\n",
              "      <td>Yangon</td>\n",
              "      <td>Normal</td>\n",
              "      <td>Male</td>\n",
              "      <td>Sports and travel</td>\n",
              "      <td>86.31</td>\n",
              "      <td>7</td>\n",
              "      <td>30.2085</td>\n",
              "      <td>634.3785</td>\n",
              "      <td>2/8/2019</td>\n",
              "      <td>10:37</td>\n",
              "      <td>Ewallet</td>\n",
              "      <td>604.17</td>\n",
              "      <td>4.761905</td>\n",
              "      <td>30.2085</td>\n",
              "      <td>5.3</td>\n",
              "    </tr>\n",
              "  </tbody>\n",
              "</table>\n",
              "</div>\n",
              "      <button class=\"colab-df-convert\" onclick=\"convertToInteractive('df-d72435fa-317a-4ae6-a4c6-1c2473135669')\"\n",
              "              title=\"Convert this dataframe to an interactive table.\"\n",
              "              style=\"display:none;\">\n",
              "        \n",
              "  <svg xmlns=\"http://www.w3.org/2000/svg\" height=\"24px\"viewBox=\"0 0 24 24\"\n",
              "       width=\"24px\">\n",
              "    <path d=\"M0 0h24v24H0V0z\" fill=\"none\"/>\n",
              "    <path d=\"M18.56 5.44l.94 2.06.94-2.06 2.06-.94-2.06-.94-.94-2.06-.94 2.06-2.06.94zm-11 1L8.5 8.5l.94-2.06 2.06-.94-2.06-.94L8.5 2.5l-.94 2.06-2.06.94zm10 10l.94 2.06.94-2.06 2.06-.94-2.06-.94-.94-2.06-.94 2.06-2.06.94z\"/><path d=\"M17.41 7.96l-1.37-1.37c-.4-.4-.92-.59-1.43-.59-.52 0-1.04.2-1.43.59L10.3 9.45l-7.72 7.72c-.78.78-.78 2.05 0 2.83L4 21.41c.39.39.9.59 1.41.59.51 0 1.02-.2 1.41-.59l7.78-7.78 2.81-2.81c.8-.78.8-2.07 0-2.86zM5.41 20L4 18.59l7.72-7.72 1.47 1.35L5.41 20z\"/>\n",
              "  </svg>\n",
              "      </button>\n",
              "      \n",
              "  <style>\n",
              "    .colab-df-container {\n",
              "      display:flex;\n",
              "      flex-wrap:wrap;\n",
              "      gap: 12px;\n",
              "    }\n",
              "\n",
              "    .colab-df-convert {\n",
              "      background-color: #E8F0FE;\n",
              "      border: none;\n",
              "      border-radius: 50%;\n",
              "      cursor: pointer;\n",
              "      display: none;\n",
              "      fill: #1967D2;\n",
              "      height: 32px;\n",
              "      padding: 0 0 0 0;\n",
              "      width: 32px;\n",
              "    }\n",
              "\n",
              "    .colab-df-convert:hover {\n",
              "      background-color: #E2EBFA;\n",
              "      box-shadow: 0px 1px 2px rgba(60, 64, 67, 0.3), 0px 1px 3px 1px rgba(60, 64, 67, 0.15);\n",
              "      fill: #174EA6;\n",
              "    }\n",
              "\n",
              "    [theme=dark] .colab-df-convert {\n",
              "      background-color: #3B4455;\n",
              "      fill: #D2E3FC;\n",
              "    }\n",
              "\n",
              "    [theme=dark] .colab-df-convert:hover {\n",
              "      background-color: #434B5C;\n",
              "      box-shadow: 0px 1px 3px 1px rgba(0, 0, 0, 0.15);\n",
              "      filter: drop-shadow(0px 1px 2px rgba(0, 0, 0, 0.3));\n",
              "      fill: #FFFFFF;\n",
              "    }\n",
              "  </style>\n",
              "\n",
              "      <script>\n",
              "        const buttonEl =\n",
              "          document.querySelector('#df-d72435fa-317a-4ae6-a4c6-1c2473135669 button.colab-df-convert');\n",
              "        buttonEl.style.display =\n",
              "          google.colab.kernel.accessAllowed ? 'block' : 'none';\n",
              "\n",
              "        async function convertToInteractive(key) {\n",
              "          const element = document.querySelector('#df-d72435fa-317a-4ae6-a4c6-1c2473135669');\n",
              "          const dataTable =\n",
              "            await google.colab.kernel.invokeFunction('convertToInteractive',\n",
              "                                                     [key], {});\n",
              "          if (!dataTable) return;\n",
              "\n",
              "          const docLinkHtml = 'Like what you see? Visit the ' +\n",
              "            '<a target=\"_blank\" href=https://colab.research.google.com/notebooks/data_table.ipynb>data table notebook</a>'\n",
              "            + ' to learn more about interactive tables.';\n",
              "          element.innerHTML = '';\n",
              "          dataTable['output_type'] = 'display_data';\n",
              "          await google.colab.output.renderOutput(dataTable, element);\n",
              "          const docLink = document.createElement('div');\n",
              "          docLink.innerHTML = docLinkHtml;\n",
              "          element.appendChild(docLink);\n",
              "        }\n",
              "      </script>\n",
              "    </div>\n",
              "  </div>\n",
              "  "
            ]
          },
          "metadata": {},
          "execution_count": 4
        }
      ]
    },
    {
      "cell_type": "code",
      "source": [
        "df.tail()"
      ],
      "metadata": {
        "colab": {
          "base_uri": "https://localhost:8080/",
          "height": 357
        },
        "id": "BRW4nGJuiXUH",
        "outputId": "6906f856-8674-4bc8-d6ab-0cb1c292ae90"
      },
      "execution_count": 5,
      "outputs": [
        {
          "output_type": "execute_result",
          "data": {
            "text/plain": [
              "       No    InvoiceID Branch       City Customertype  Gender  \\\n",
              "995   996  233-67-5758      C  Naypyitaw       Normal    Male   \n",
              "996   997  303-96-2227      B   Mandalay       Normal  Female   \n",
              "997   998  727-02-1313      A     Yangon       Member    Male   \n",
              "998   999  347-56-2442      A     Yangon       Normal    Male   \n",
              "999  1000  849-09-3807      A     Yangon       Member  Female   \n",
              "\n",
              "             Productline  Unitprice  Quantity      Tax      Total       Date  \\\n",
              "995    Health and beauty      40.35         1   2.0175    42.3675  1/29/2019   \n",
              "996   Home and lifestyle      97.38        10  48.6900  1022.4900   3/2/2019   \n",
              "997   Food and beverages      31.84         1   1.5920    33.4320   2/9/2019   \n",
              "998   Home and lifestyle      65.82         1   3.2910    69.1110  2/22/2019   \n",
              "999  Fashion accessories      88.34         7  30.9190   649.2990  2/18/2019   \n",
              "\n",
              "      Time  Payment    cogs  gross_margin_percentage  gross_iincome  Rating  \n",
              "995  13:46  Ewallet   40.35                 4.761905         2.0175     6.2  \n",
              "996  17:16  Ewallet  973.80                 4.761905        48.6900     4.4  \n",
              "997  13:22     Cash   31.84                 4.761905         1.5920     7.7  \n",
              "998  15:33     Cash   65.82                 4.761905         3.2910     4.1  \n",
              "999  13:28     Cash  618.38                 4.761905        30.9190     6.6  "
            ],
            "text/html": [
              "\n",
              "  <div id=\"df-07f390b1-540a-4862-971b-b2d2ac14bc69\">\n",
              "    <div class=\"colab-df-container\">\n",
              "      <div>\n",
              "<style scoped>\n",
              "    .dataframe tbody tr th:only-of-type {\n",
              "        vertical-align: middle;\n",
              "    }\n",
              "\n",
              "    .dataframe tbody tr th {\n",
              "        vertical-align: top;\n",
              "    }\n",
              "\n",
              "    .dataframe thead th {\n",
              "        text-align: right;\n",
              "    }\n",
              "</style>\n",
              "<table border=\"1\" class=\"dataframe\">\n",
              "  <thead>\n",
              "    <tr style=\"text-align: right;\">\n",
              "      <th></th>\n",
              "      <th>No</th>\n",
              "      <th>InvoiceID</th>\n",
              "      <th>Branch</th>\n",
              "      <th>City</th>\n",
              "      <th>Customertype</th>\n",
              "      <th>Gender</th>\n",
              "      <th>Productline</th>\n",
              "      <th>Unitprice</th>\n",
              "      <th>Quantity</th>\n",
              "      <th>Tax</th>\n",
              "      <th>Total</th>\n",
              "      <th>Date</th>\n",
              "      <th>Time</th>\n",
              "      <th>Payment</th>\n",
              "      <th>cogs</th>\n",
              "      <th>gross_margin_percentage</th>\n",
              "      <th>gross_iincome</th>\n",
              "      <th>Rating</th>\n",
              "    </tr>\n",
              "  </thead>\n",
              "  <tbody>\n",
              "    <tr>\n",
              "      <th>995</th>\n",
              "      <td>996</td>\n",
              "      <td>233-67-5758</td>\n",
              "      <td>C</td>\n",
              "      <td>Naypyitaw</td>\n",
              "      <td>Normal</td>\n",
              "      <td>Male</td>\n",
              "      <td>Health and beauty</td>\n",
              "      <td>40.35</td>\n",
              "      <td>1</td>\n",
              "      <td>2.0175</td>\n",
              "      <td>42.3675</td>\n",
              "      <td>1/29/2019</td>\n",
              "      <td>13:46</td>\n",
              "      <td>Ewallet</td>\n",
              "      <td>40.35</td>\n",
              "      <td>4.761905</td>\n",
              "      <td>2.0175</td>\n",
              "      <td>6.2</td>\n",
              "    </tr>\n",
              "    <tr>\n",
              "      <th>996</th>\n",
              "      <td>997</td>\n",
              "      <td>303-96-2227</td>\n",
              "      <td>B</td>\n",
              "      <td>Mandalay</td>\n",
              "      <td>Normal</td>\n",
              "      <td>Female</td>\n",
              "      <td>Home and lifestyle</td>\n",
              "      <td>97.38</td>\n",
              "      <td>10</td>\n",
              "      <td>48.6900</td>\n",
              "      <td>1022.4900</td>\n",
              "      <td>3/2/2019</td>\n",
              "      <td>17:16</td>\n",
              "      <td>Ewallet</td>\n",
              "      <td>973.80</td>\n",
              "      <td>4.761905</td>\n",
              "      <td>48.6900</td>\n",
              "      <td>4.4</td>\n",
              "    </tr>\n",
              "    <tr>\n",
              "      <th>997</th>\n",
              "      <td>998</td>\n",
              "      <td>727-02-1313</td>\n",
              "      <td>A</td>\n",
              "      <td>Yangon</td>\n",
              "      <td>Member</td>\n",
              "      <td>Male</td>\n",
              "      <td>Food and beverages</td>\n",
              "      <td>31.84</td>\n",
              "      <td>1</td>\n",
              "      <td>1.5920</td>\n",
              "      <td>33.4320</td>\n",
              "      <td>2/9/2019</td>\n",
              "      <td>13:22</td>\n",
              "      <td>Cash</td>\n",
              "      <td>31.84</td>\n",
              "      <td>4.761905</td>\n",
              "      <td>1.5920</td>\n",
              "      <td>7.7</td>\n",
              "    </tr>\n",
              "    <tr>\n",
              "      <th>998</th>\n",
              "      <td>999</td>\n",
              "      <td>347-56-2442</td>\n",
              "      <td>A</td>\n",
              "      <td>Yangon</td>\n",
              "      <td>Normal</td>\n",
              "      <td>Male</td>\n",
              "      <td>Home and lifestyle</td>\n",
              "      <td>65.82</td>\n",
              "      <td>1</td>\n",
              "      <td>3.2910</td>\n",
              "      <td>69.1110</td>\n",
              "      <td>2/22/2019</td>\n",
              "      <td>15:33</td>\n",
              "      <td>Cash</td>\n",
              "      <td>65.82</td>\n",
              "      <td>4.761905</td>\n",
              "      <td>3.2910</td>\n",
              "      <td>4.1</td>\n",
              "    </tr>\n",
              "    <tr>\n",
              "      <th>999</th>\n",
              "      <td>1000</td>\n",
              "      <td>849-09-3807</td>\n",
              "      <td>A</td>\n",
              "      <td>Yangon</td>\n",
              "      <td>Member</td>\n",
              "      <td>Female</td>\n",
              "      <td>Fashion accessories</td>\n",
              "      <td>88.34</td>\n",
              "      <td>7</td>\n",
              "      <td>30.9190</td>\n",
              "      <td>649.2990</td>\n",
              "      <td>2/18/2019</td>\n",
              "      <td>13:28</td>\n",
              "      <td>Cash</td>\n",
              "      <td>618.38</td>\n",
              "      <td>4.761905</td>\n",
              "      <td>30.9190</td>\n",
              "      <td>6.6</td>\n",
              "    </tr>\n",
              "  </tbody>\n",
              "</table>\n",
              "</div>\n",
              "      <button class=\"colab-df-convert\" onclick=\"convertToInteractive('df-07f390b1-540a-4862-971b-b2d2ac14bc69')\"\n",
              "              title=\"Convert this dataframe to an interactive table.\"\n",
              "              style=\"display:none;\">\n",
              "        \n",
              "  <svg xmlns=\"http://www.w3.org/2000/svg\" height=\"24px\"viewBox=\"0 0 24 24\"\n",
              "       width=\"24px\">\n",
              "    <path d=\"M0 0h24v24H0V0z\" fill=\"none\"/>\n",
              "    <path d=\"M18.56 5.44l.94 2.06.94-2.06 2.06-.94-2.06-.94-.94-2.06-.94 2.06-2.06.94zm-11 1L8.5 8.5l.94-2.06 2.06-.94-2.06-.94L8.5 2.5l-.94 2.06-2.06.94zm10 10l.94 2.06.94-2.06 2.06-.94-2.06-.94-.94-2.06-.94 2.06-2.06.94z\"/><path d=\"M17.41 7.96l-1.37-1.37c-.4-.4-.92-.59-1.43-.59-.52 0-1.04.2-1.43.59L10.3 9.45l-7.72 7.72c-.78.78-.78 2.05 0 2.83L4 21.41c.39.39.9.59 1.41.59.51 0 1.02-.2 1.41-.59l7.78-7.78 2.81-2.81c.8-.78.8-2.07 0-2.86zM5.41 20L4 18.59l7.72-7.72 1.47 1.35L5.41 20z\"/>\n",
              "  </svg>\n",
              "      </button>\n",
              "      \n",
              "  <style>\n",
              "    .colab-df-container {\n",
              "      display:flex;\n",
              "      flex-wrap:wrap;\n",
              "      gap: 12px;\n",
              "    }\n",
              "\n",
              "    .colab-df-convert {\n",
              "      background-color: #E8F0FE;\n",
              "      border: none;\n",
              "      border-radius: 50%;\n",
              "      cursor: pointer;\n",
              "      display: none;\n",
              "      fill: #1967D2;\n",
              "      height: 32px;\n",
              "      padding: 0 0 0 0;\n",
              "      width: 32px;\n",
              "    }\n",
              "\n",
              "    .colab-df-convert:hover {\n",
              "      background-color: #E2EBFA;\n",
              "      box-shadow: 0px 1px 2px rgba(60, 64, 67, 0.3), 0px 1px 3px 1px rgba(60, 64, 67, 0.15);\n",
              "      fill: #174EA6;\n",
              "    }\n",
              "\n",
              "    [theme=dark] .colab-df-convert {\n",
              "      background-color: #3B4455;\n",
              "      fill: #D2E3FC;\n",
              "    }\n",
              "\n",
              "    [theme=dark] .colab-df-convert:hover {\n",
              "      background-color: #434B5C;\n",
              "      box-shadow: 0px 1px 3px 1px rgba(0, 0, 0, 0.15);\n",
              "      filter: drop-shadow(0px 1px 2px rgba(0, 0, 0, 0.3));\n",
              "      fill: #FFFFFF;\n",
              "    }\n",
              "  </style>\n",
              "\n",
              "      <script>\n",
              "        const buttonEl =\n",
              "          document.querySelector('#df-07f390b1-540a-4862-971b-b2d2ac14bc69 button.colab-df-convert');\n",
              "        buttonEl.style.display =\n",
              "          google.colab.kernel.accessAllowed ? 'block' : 'none';\n",
              "\n",
              "        async function convertToInteractive(key) {\n",
              "          const element = document.querySelector('#df-07f390b1-540a-4862-971b-b2d2ac14bc69');\n",
              "          const dataTable =\n",
              "            await google.colab.kernel.invokeFunction('convertToInteractive',\n",
              "                                                     [key], {});\n",
              "          if (!dataTable) return;\n",
              "\n",
              "          const docLinkHtml = 'Like what you see? Visit the ' +\n",
              "            '<a target=\"_blank\" href=https://colab.research.google.com/notebooks/data_table.ipynb>data table notebook</a>'\n",
              "            + ' to learn more about interactive tables.';\n",
              "          element.innerHTML = '';\n",
              "          dataTable['output_type'] = 'display_data';\n",
              "          await google.colab.output.renderOutput(dataTable, element);\n",
              "          const docLink = document.createElement('div');\n",
              "          docLink.innerHTML = docLinkHtml;\n",
              "          element.appendChild(docLink);\n",
              "        }\n",
              "      </script>\n",
              "    </div>\n",
              "  </div>\n",
              "  "
            ]
          },
          "metadata": {},
          "execution_count": 5
        }
      ]
    },
    {
      "cell_type": "code",
      "source": [
        "df.City"
      ],
      "metadata": {
        "colab": {
          "base_uri": "https://localhost:8080/"
        },
        "id": "4XuDwy2xieOj",
        "outputId": "0d9e792c-4c48-41b2-eec6-27fed5b11560"
      },
      "execution_count": 6,
      "outputs": [
        {
          "output_type": "execute_result",
          "data": {
            "text/plain": [
              "0         Yangon\n",
              "1      Naypyitaw\n",
              "2         Yangon\n",
              "3         Yangon\n",
              "4         Yangon\n",
              "         ...    \n",
              "995    Naypyitaw\n",
              "996     Mandalay\n",
              "997       Yangon\n",
              "998       Yangon\n",
              "999       Yangon\n",
              "Name: City, Length: 1000, dtype: object"
            ]
          },
          "metadata": {},
          "execution_count": 6
        }
      ]
    },
    {
      "cell_type": "code",
      "source": [
        "df.InvoiceID"
      ],
      "metadata": {
        "colab": {
          "base_uri": "https://localhost:8080/"
        },
        "id": "FM59tS6Kivud",
        "outputId": "5f4d129b-0780-4fac-a3b6-b9b945056738"
      },
      "execution_count": 7,
      "outputs": [
        {
          "output_type": "execute_result",
          "data": {
            "text/plain": [
              "0      750-67-8428\n",
              "1      226-31-3081\n",
              "2      631-41-3108\n",
              "3      123-19-1176\n",
              "4      373-73-7910\n",
              "          ...     \n",
              "995    233-67-5758\n",
              "996    303-96-2227\n",
              "997    727-02-1313\n",
              "998    347-56-2442\n",
              "999    849-09-3807\n",
              "Name: InvoiceID, Length: 1000, dtype: object"
            ]
          },
          "metadata": {},
          "execution_count": 7
        }
      ]
    },
    {
      "cell_type": "code",
      "source": [
        "df[\"City\"]"
      ],
      "metadata": {
        "colab": {
          "base_uri": "https://localhost:8080/"
        },
        "id": "cwwYnAQli_WU",
        "outputId": "b9ac02dc-4721-4d05-96c5-91915b08da47"
      },
      "execution_count": 8,
      "outputs": [
        {
          "output_type": "execute_result",
          "data": {
            "text/plain": [
              "0         Yangon\n",
              "1      Naypyitaw\n",
              "2         Yangon\n",
              "3         Yangon\n",
              "4         Yangon\n",
              "         ...    \n",
              "995    Naypyitaw\n",
              "996     Mandalay\n",
              "997       Yangon\n",
              "998       Yangon\n",
              "999       Yangon\n",
              "Name: City, Length: 1000, dtype: object"
            ]
          },
          "metadata": {},
          "execution_count": 8
        }
      ]
    },
    {
      "cell_type": "code",
      "source": [
        "df.InvoiceID[1]"
      ],
      "metadata": {
        "colab": {
          "base_uri": "https://localhost:8080/",
          "height": 35
        },
        "id": "muBAfRs9jP2V",
        "outputId": "5dcd5a6f-71d6-4296-ebec-cec696cab142"
      },
      "execution_count": 9,
      "outputs": [
        {
          "output_type": "execute_result",
          "data": {
            "text/plain": [
              "'226-31-3081'"
            ],
            "application/vnd.google.colaboratory.intrinsic+json": {
              "type": "string"
            }
          },
          "metadata": {},
          "execution_count": 9
        }
      ]
    },
    {
      "cell_type": "code",
      "source": [
        "df.Unitprice.max()"
      ],
      "metadata": {
        "colab": {
          "base_uri": "https://localhost:8080/"
        },
        "id": "rDuzdQLCj6d7",
        "outputId": "9d79ad07-95ab-4fbf-a2c0-0ef896994d5c"
      },
      "execution_count": 10,
      "outputs": [
        {
          "output_type": "execute_result",
          "data": {
            "text/plain": [
              "99.96"
            ]
          },
          "metadata": {},
          "execution_count": 10
        }
      ]
    },
    {
      "cell_type": "code",
      "source": [
        "df.Unitprice.min()"
      ],
      "metadata": {
        "colab": {
          "base_uri": "https://localhost:8080/"
        },
        "id": "06qnYwX8kaat",
        "outputId": "2c167273-c622-411d-bfcb-812eb730d501"
      },
      "execution_count": 11,
      "outputs": [
        {
          "output_type": "execute_result",
          "data": {
            "text/plain": [
              "10.08"
            ]
          },
          "metadata": {},
          "execution_count": 11
        }
      ]
    },
    {
      "cell_type": "code",
      "source": [
        "df.Unitprice.mean()"
      ],
      "metadata": {
        "colab": {
          "base_uri": "https://localhost:8080/"
        },
        "id": "wumn7dTekiAy",
        "outputId": "988a00bb-a0ea-443f-cb8b-24e6fc1cdca4"
      },
      "execution_count": 12,
      "outputs": [
        {
          "output_type": "execute_result",
          "data": {
            "text/plain": [
              "55.67213"
            ]
          },
          "metadata": {},
          "execution_count": 12
        }
      ]
    },
    {
      "cell_type": "code",
      "source": [
        "df.Quantity.max()"
      ],
      "metadata": {
        "colab": {
          "base_uri": "https://localhost:8080/"
        },
        "id": "OQAXaNxNkj1a",
        "outputId": "17fdade0-1e7e-4d45-89dc-19cc94fbe48b"
      },
      "execution_count": 13,
      "outputs": [
        {
          "output_type": "execute_result",
          "data": {
            "text/plain": [
              "10"
            ]
          },
          "metadata": {},
          "execution_count": 13
        }
      ]
    },
    {
      "cell_type": "code",
      "source": [
        "df.Quantity.min()"
      ],
      "metadata": {
        "colab": {
          "base_uri": "https://localhost:8080/"
        },
        "id": "m-RUpnMOksir",
        "outputId": "1e31c3d2-963c-4398-d25c-2343fa028bda"
      },
      "execution_count": 14,
      "outputs": [
        {
          "output_type": "execute_result",
          "data": {
            "text/plain": [
              "1"
            ]
          },
          "metadata": {},
          "execution_count": 14
        }
      ]
    },
    {
      "cell_type": "code",
      "source": [
        "df.Quantity.mean()"
      ],
      "metadata": {
        "colab": {
          "base_uri": "https://localhost:8080/"
        },
        "id": "mPypKTnwkvAC",
        "outputId": "a39808a2-8f3c-41d7-b6c1-7507d5f6510d"
      },
      "execution_count": 15,
      "outputs": [
        {
          "output_type": "execute_result",
          "data": {
            "text/plain": [
              "5.51"
            ]
          },
          "metadata": {},
          "execution_count": 15
        }
      ]
    },
    {
      "cell_type": "code",
      "source": [
        "df.Quantity.loc[df[\"Productline\"]==\"Health and beauty\"].max()\n"
      ],
      "metadata": {
        "colab": {
          "base_uri": "https://localhost:8080/"
        },
        "id": "u0ERjCJkkw_b",
        "outputId": "49c856af-18fc-4514-a0f3-aed0b6cd9e09"
      },
      "execution_count": 16,
      "outputs": [
        {
          "output_type": "execute_result",
          "data": {
            "text/plain": [
              "10"
            ]
          },
          "metadata": {},
          "execution_count": 16
        }
      ]
    },
    {
      "cell_type": "code",
      "source": [
        "df.Quantity.loc[df[\"Productline\"]==\"Health and beauty\"].min()"
      ],
      "metadata": {
        "colab": {
          "base_uri": "https://localhost:8080/"
        },
        "id": "950u73vZmmhe",
        "outputId": "dfb80725-8c26-44ab-e2ea-74f91d24b3c2"
      },
      "execution_count": 17,
      "outputs": [
        {
          "output_type": "execute_result",
          "data": {
            "text/plain": [
              "1"
            ]
          },
          "metadata": {},
          "execution_count": 17
        }
      ]
    },
    {
      "cell_type": "code",
      "source": [
        "df.Quantity.loc[df[\"Productline\"]==\"Health and beauty\"].mean()"
      ],
      "metadata": {
        "colab": {
          "base_uri": "https://localhost:8080/"
        },
        "id": "kkRgqCMpnPeN",
        "outputId": "9f54d69e-e0a8-4a46-b3b5-c20a62391138"
      },
      "execution_count": 18,
      "outputs": [
        {
          "output_type": "execute_result",
          "data": {
            "text/plain": [
              "5.618421052631579"
            ]
          },
          "metadata": {},
          "execution_count": 18
        }
      ]
    },
    {
      "cell_type": "code",
      "source": [
        "df.Unitprice.loc[df[\"Productline\"]==\"Health and beauty\"].max()"
      ],
      "metadata": {
        "colab": {
          "base_uri": "https://localhost:8080/"
        },
        "id": "Ho-v0rlpnRzP",
        "outputId": "ce90d4c9-52f8-4199-fbe7-7d9344cd78d4"
      },
      "execution_count": 19,
      "outputs": [
        {
          "output_type": "execute_result",
          "data": {
            "text/plain": [
              "99.96"
            ]
          },
          "metadata": {},
          "execution_count": 19
        }
      ]
    },
    {
      "cell_type": "code",
      "source": [
        "df.Unitprice.loc[df[\"Productline\"]==\"Health and beauty\"].min()"
      ],
      "metadata": {
        "colab": {
          "base_uri": "https://localhost:8080/"
        },
        "id": "W1167YOcne8y",
        "outputId": "4045858c-0c53-4616-ca82-6c365a341794"
      },
      "execution_count": 20,
      "outputs": [
        {
          "output_type": "execute_result",
          "data": {
            "text/plain": [
              "10.08"
            ]
          },
          "metadata": {},
          "execution_count": 20
        }
      ]
    },
    {
      "cell_type": "code",
      "source": [
        "df.Unitprice.loc[df[\"Productline\"]==\"Health and beauty\"].mean()"
      ],
      "metadata": {
        "colab": {
          "base_uri": "https://localhost:8080/"
        },
        "id": "A_cD0Ogdnshc",
        "outputId": "9125971b-1a52-4b0e-b088-faba83318578"
      },
      "execution_count": 21,
      "outputs": [
        {
          "output_type": "execute_result",
          "data": {
            "text/plain": [
              "54.85447368421053"
            ]
          },
          "metadata": {},
          "execution_count": 21
        }
      ]
    },
    {
      "cell_type": "code",
      "source": [
        "df.Quantity.loc[df[\"Productline\"]==\"Electronic accessories\"].max()"
      ],
      "metadata": {
        "colab": {
          "base_uri": "https://localhost:8080/"
        },
        "id": "N5nA6Kcrnuwj",
        "outputId": "2cd213ac-e90c-4fe3-8413-750fe47c4511"
      },
      "execution_count": 22,
      "outputs": [
        {
          "output_type": "execute_result",
          "data": {
            "text/plain": [
              "10"
            ]
          },
          "metadata": {},
          "execution_count": 22
        }
      ]
    },
    {
      "cell_type": "code",
      "source": [
        "df.Quantity.loc[df[\"Productline\"]==\"Electronic accessories\"].min()"
      ],
      "metadata": {
        "colab": {
          "base_uri": "https://localhost:8080/"
        },
        "id": "ijMHr4kNn9-G",
        "outputId": "93c5d060-afc8-46cd-980b-dfec84df23de"
      },
      "execution_count": 23,
      "outputs": [
        {
          "output_type": "execute_result",
          "data": {
            "text/plain": [
              "1"
            ]
          },
          "metadata": {},
          "execution_count": 23
        }
      ]
    },
    {
      "cell_type": "code",
      "source": [
        "df.Quantity.loc[df[\"Productline\"]==\"Electronic accessories\"].mean()"
      ],
      "metadata": {
        "colab": {
          "base_uri": "https://localhost:8080/"
        },
        "id": "z_pgoC3foEGb",
        "outputId": "c8ed7998-9e2f-4eb3-902f-5ab3fcbf6c4d"
      },
      "execution_count": 24,
      "outputs": [
        {
          "output_type": "execute_result",
          "data": {
            "text/plain": [
              "5.711764705882353"
            ]
          },
          "metadata": {},
          "execution_count": 24
        }
      ]
    },
    {
      "cell_type": "code",
      "source": [
        "df.InvoiceID.loc[(df[\"Productline\"]==\"Health and beauty\")&(df[\"Gender\"]==\"Male\")].count()"
      ],
      "metadata": {
        "colab": {
          "base_uri": "https://localhost:8080/"
        },
        "id": "B-8gRonyoGGx",
        "outputId": "471e0e86-7a4d-46d5-f577-70dfffdbe6bd"
      },
      "execution_count": 25,
      "outputs": [
        {
          "output_type": "execute_result",
          "data": {
            "text/plain": [
              "88"
            ]
          },
          "metadata": {},
          "execution_count": 25
        }
      ]
    },
    {
      "cell_type": "code",
      "source": [
        "df.InvoiceID.loc[((df[\"Productline\"]==\"Fashion accessories\")|(df[\"Productline\"]==\"Sports and travel\"))&(df[\"Gender\"]==\"Female\")].count()"
      ],
      "metadata": {
        "colab": {
          "base_uri": "https://localhost:8080/"
        },
        "id": "kut-kGdtp6e5",
        "outputId": "a95203ad-8341-4e0b-ff41-5ddfdef1daa9"
      },
      "execution_count": 26,
      "outputs": [
        {
          "output_type": "execute_result",
          "data": {
            "text/plain": [
              "184"
            ]
          },
          "metadata": {},
          "execution_count": 26
        }
      ]
    },
    {
      "cell_type": "code",
      "source": [
        "x=[1,2,3,4,5,6] \n",
        "y=[2,6,9,3,5,8]\n"
      ],
      "metadata": {
        "id": "6qHpDb9urKkF"
      },
      "execution_count": 27,
      "outputs": []
    },
    {
      "cell_type": "code",
      "source": [
        "import matplotlib.pyplot as plt\n",
        "plt.plot(x,y)"
      ],
      "metadata": {
        "colab": {
          "base_uri": "https://localhost:8080/",
          "height": 282
        },
        "id": "4b8HoVKhxlrZ",
        "outputId": "837292ab-af87-47e1-fd37-6944b6d41531"
      },
      "execution_count": 28,
      "outputs": [
        {
          "output_type": "execute_result",
          "data": {
            "text/plain": [
              "[<matplotlib.lines.Line2D at 0x7fa0e6dbea00>]"
            ]
          },
          "metadata": {},
          "execution_count": 28
        },
        {
          "output_type": "display_data",
          "data": {
            "text/plain": [
              "<Figure size 432x288 with 1 Axes>"
            ],
            "image/png": "[encoded data removed]"
          },
          "metadata": {
            "needs_background": "light"
          }
        }
      ]
    },
    {
      "cell_type": "code",
      "source": [
        "plt.plot(x,y,\".\")"
      ],
      "metadata": {
        "colab": {
          "base_uri": "https://localhost:8080/",
          "height": 282
        },
        "id": "HT6M181lxt04",
        "outputId": "9231bec3-44aa-4308-f8a5-127283dfa785"
      },
      "execution_count": 29,
      "outputs": [
        {
          "output_type": "execute_result",
          "data": {
            "text/plain": [
              "[<matplotlib.lines.Line2D at 0x7fa0e446d4f0>]"
            ]
          },
          "metadata": {},
          "execution_count": 29
        },
        {
          "output_type": "display_data",
          "data": {
            "text/plain": [
              "<Figure size 432x288 with 1 Axes>"
            ],
            "image/png": "[encoded data removed]"
          },
          "metadata": {
            "needs_background": "light"
          }
        }
      ]
    },
    {
      "cell_type": "code",
      "source": [
        "plt.plot(x,y,\".-\")"
      ],
      "metadata": {
        "colab": {
          "base_uri": "https://localhost:8080/",
          "height": 282
        },
        "id": "NrGMn-rfyuYp",
        "outputId": "94a96920-3289-4493-cefd-f398cc372951"
      },
      "execution_count": 30,
      "outputs": [
        {
          "output_type": "execute_result",
          "data": {
            "text/plain": [
              "[<matplotlib.lines.Line2D at 0x7fa0e43ddc70>]"
            ]
          },
          "metadata": {},
          "execution_count": 30
        },
        {
          "output_type": "display_data",
          "data": {
            "text/plain": [
              "<Figure size 432x288 with 1 Axes>"
            ],
            "image/png": "[encoded data removed]"
          },
          "metadata": {
            "needs_background": "light"
          }
        }
      ]
    },
    {
      "cell_type": "code",
      "source": [
        "plt.plot(x,y,color=\"red\")"
      ],
      "metadata": {
        "colab": {
          "base_uri": "https://localhost:8080/",
          "height": 282
        },
        "id": "2nydS13oy7Vh",
        "outputId": "13eee893-1ed3-4f0e-99f3-7e0e69f4775a"
      },
      "execution_count": 31,
      "outputs": [
        {
          "output_type": "execute_result",
          "data": {
            "text/plain": [
              "[<matplotlib.lines.Line2D at 0x7fa0e434cd60>]"
            ]
          },
          "metadata": {},
          "execution_count": 31
        },
        {
          "output_type": "display_data",
          "data": {
            "text/plain": [
              "<Figure size 432x288 with 1 Axes>"
            ],
            "image/png": "[encoded data removed]"
          },
          "metadata": {
            "needs_background": "light"
          }
        }
      ]
    },
    {
      "cell_type": "code",
      "source": [
        "x=[1,8,6,7,5,3,4]\n",
        "y=[8,4,6,1,7,5,3]\n",
        "z=[5,6,7,5,8,2,1]\n"
      ],
      "metadata": {
        "id": "PPeK6a7fzJzI"
      },
      "execution_count": 32,
      "outputs": []
    },
    {
      "cell_type": "code",
      "source": [
        "import matplotlib.pyplot as plt\n",
        "plt.plot(x,y,color=\"red\")\n",
        "plt.plot(x,z,color=\"blue\")"
      ],
      "metadata": {
        "colab": {
          "base_uri": "https://localhost:8080/",
          "height": 282
        },
        "id": "semzQmZgzdZC",
        "outputId": "e0fdfca4-409f-4ea5-cad4-e9eacf5670de"
      },
      "execution_count": 33,
      "outputs": [
        {
          "output_type": "execute_result",
          "data": {
            "text/plain": [
              "[<matplotlib.lines.Line2D at 0x7fa0e4343340>]"
            ]
          },
          "metadata": {},
          "execution_count": 33
        },
        {
          "output_type": "display_data",
          "data": {
            "text/plain": [
              "<Figure size 432x288 with 1 Axes>"
            ],
            "image/png": "[encoded data removed]"
          },
          "metadata": {
            "needs_background": "light"
          }
        }
      ]
    },
    {
      "cell_type": "code",
      "source": [
        "plt.plot(df.Quantity,df.Tax)"
      ],
      "metadata": {
        "colab": {
          "base_uri": "https://localhost:8080/",
          "height": 282
        },
        "id": "42I7IIK4zlJZ",
        "outputId": "8a952d1e-fa90-48fa-89ed-d05fee8c85bb"
      },
      "execution_count": 34,
      "outputs": [
        {
          "output_type": "execute_result",
          "data": {
            "text/plain": [
              "[<matplotlib.lines.Line2D at 0x7fa0e42a6e80>]"
            ]
          },
          "metadata": {},
          "execution_count": 34
        },
        {
          "output_type": "display_data",
          "data": {
            "text/plain": [
              "<Figure size 432x288 with 1 Axes>"
            ],
            "image/png": "[encoded data removed]"
          },
          "metadata": {
            "needs_background": "light"
          }
        }
      ]
    },
    {
      "cell_type": "code",
      "source": [
        "plt.plot(df.Quantity,df.Tax,\".\")"
      ],
      "metadata": {
        "colab": {
          "base_uri": "https://localhost:8080/",
          "height": 282
        },
        "id": "KmTgBPN048Dg",
        "outputId": "b3384ca7-f9e3-483e-e6eb-d93ebb6f031b"
      },
      "execution_count": 35,
      "outputs": [
        {
          "output_type": "execute_result",
          "data": {
            "text/plain": [
              "[<matplotlib.lines.Line2D at 0x7fa0e420bb80>]"
            ]
          },
          "metadata": {},
          "execution_count": 35
        },
        {
          "output_type": "display_data",
          "data": {
            "text/plain": [
              "<Figure size 432x288 with 1 Axes>"
            ],
            "image/png": "[encoded data removed]"
          },
          "metadata": {
            "needs_background": "light"
          }
        }
      ]
    },
    {
      "cell_type": "code",
      "source": [
        "df.Tax.loc[(df[\"City\"]==\"Yangon\")].sum()"
      ],
      "metadata": {
        "colab": {
          "base_uri": "https://localhost:8080/"
        },
        "id": "Rial3UoZ5MZr",
        "outputId": "a6b538a0-3e85-4026-8d0f-5488a3fa3566"
      },
      "execution_count": 36,
      "outputs": [
        {
          "output_type": "execute_result",
          "data": {
            "text/plain": [
              "5057.1605"
            ]
          },
          "metadata": {},
          "execution_count": 36
        }
      ]
    },
    {
      "cell_type": "code",
      "source": [
        "a=df.Quantity.loc[(df[\"City\"]==\"Yangon\")].sum()\n",
        "b=df.Quantity.loc[(df[\"City\"]==\"Mandalay\")].sum()\n",
        "print(\"Total sales in Yangon:\",a)\n",
        "print(\"Total sales in Mandalay:\",b)\n",
        "if a>b:\n",
        "  print(\"Yangon has highest sales\")\n",
        "else:\n",
        "  print(\"Mandalay has highest sales\")\n"
      ],
      "metadata": {
        "colab": {
          "base_uri": "https://localhost:8080/"
        },
        "id": "5aaQ4TdB59zx",
        "outputId": "30697003-8f30-47e2-bdae-407ebb79cbca"
      },
      "execution_count": 37,
      "outputs": [
        {
          "output_type": "stream",
          "name": "stdout",
          "text": [
            "Total sales in Yangon: 1859\n",
            "Total sales in Mandalay: 1820\n",
            "Yangon has highest sales\n"
          ]
        }
      ]
    },
    {
      "cell_type": "code",
      "source": [
        "df.Branch.loc[(df[\"City\"]==\"Yangon\")]\n"
      ],
      "metadata": {
        "colab": {
          "base_uri": "https://localhost:8080/"
        },
        "id": "8YyeZtqi7X_N",
        "outputId": "01af816d-4f54-4991-c0c6-496a18228d94"
      },
      "execution_count": 38,
      "outputs": [
        {
          "output_type": "execute_result",
          "data": {
            "text/plain": [
              "0      A\n",
              "2      A\n",
              "3      A\n",
              "4      A\n",
              "6      A\n",
              "      ..\n",
              "990    A\n",
              "992    A\n",
              "997    A\n",
              "998    A\n",
              "999    A\n",
              "Name: Branch, Length: 340, dtype: object"
            ]
          },
          "metadata": {},
          "execution_count": 38
        }
      ]
    },
    {
      "cell_type": "code",
      "source": [
        "x=df[\"Tax\"]\n",
        "y=df[\"Unitprice\"]\n",
        "import matplotlib.pyplot as plt\n",
        "plt.plot(x,y,\".\")\n"
      ],
      "metadata": {
        "colab": {
          "base_uri": "https://localhost:8080/",
          "height": 282
        },
        "id": "EcQ3T-Ni-1Qw",
        "outputId": "dd7c2b6b-5c46-4a59-b9ea-cdf6a24c8141"
      },
      "execution_count": 39,
      "outputs": [
        {
          "output_type": "execute_result",
          "data": {
            "text/plain": [
              "[<matplotlib.lines.Line2D at 0x7fa0e41f6a30>]"
            ]
          },
          "metadata": {},
          "execution_count": 39
        },
        {
          "output_type": "display_data",
          "data": {
            "text/plain": [
              "<Figure size 432x288 with 1 Axes>"
            ],
            "image/png": "[encoded data removed]"
          },
          "metadata": {
            "needs_background": "light"
          }
        }
      ]
    },
    {
      "cell_type": "code",
      "source": [
        "a=df.gross_iincome.max()\n",
        "x=df.Date.loc[(df[\"gross_iincome\"]==a)]\n",
        "print(\"The highest grow-margin : \",a)\n",
        "print(\"The highest grow-margin day of the year: \",x)\n",
        "c=df.Branch.loc[(df[\"gross_iincome\"]==a)]\n",
        "print(\"The branch  with the greatest grow-margin: \",c)\n",
        "d=df.InvoiceID.loc[(df[\"gross_iincome\"]==a)]\n",
        "print(\"The invoice ID  with the greatest grow-margin: \",d)"
      ],
      "metadata": {
        "colab": {
          "base_uri": "https://localhost:8080/"
        },
        "id": "TTW1SdbeAUZH",
        "outputId": "db56558e-86b5-43e4-a5c7-153307d3dce3"
      },
      "execution_count": 40,
      "outputs": [
        {
          "output_type": "stream",
          "name": "stdout",
          "text": [
            "The highest grow-margin :  49.65\n",
            "The highest grow-margin day of the year:  350    2/15/2019\n",
            "Name: Date, dtype: object\n",
            "The branch  with the greatest grow-margin:  350    C\n",
            "Name: Branch, dtype: object\n",
            "The invoice ID  with the greatest grow-margin:  350    860-79-0874\n",
            "Name: InvoiceID, dtype: object\n"
          ]
        }
      ]
    },
    {
      "cell_type": "code",
      "source": [
        "a=df.gross_iincome.loc[(df[\"Gender\"]==\"Female\")].max()\n",
        "b=df.gross_iincome.loc[(df[\"Gender\"]==\"Male\")].max()\n",
        "print(\"Highest profit margin seen in female merchandise sales:\",a)\n",
        "print(\"Highest profit margin seen in male merchandise sales:\",b)\n",
        "if a>b:\n",
        "  print(\"Female has highest profit margin\")\n",
        "else:\n",
        "  print(\"Male has highest profit margin\")"
      ],
      "metadata": {
        "colab": {
          "base_uri": "https://localhost:8080/"
        },
        "id": "xXQMT53QA6Pr",
        "outputId": "a44bdd62-25bc-4b96-b8ae-759be30f3ea4"
      },
      "execution_count": 41,
      "outputs": [
        {
          "output_type": "stream",
          "name": "stdout",
          "text": [
            "Highest profit margin seen in female merchandise sales: 49.65\n",
            "Highest profit margin seen in male merchandise sales: 49.49\n",
            "Female has highest profit margin\n"
          ]
        }
      ]
    },
    {
      "cell_type": "code",
      "source": [
        "a=df.gross_iincome.max()\n",
        "x=df.Customertype.loc[(df[\"gross_iincome\"]==a)]\n",
        "print(\"The highest grow-margin : \",a)\n",
        "print(\"The type of customer that has the highest gross income: \",x)\n",
        "b=df.Unitprice.max()\n",
        "print(\"The highest grow-margin : \",b)\n",
        "if a==b:\n",
        "  print(\"It is true that the product with the highest gross income has the highest unit price\")\n",
        "else :\n",
        "  print(\"It is false that the product with the highest gross income has the highest unit price\")\n",
        "\n"
      ],
      "metadata": {
        "colab": {
          "base_uri": "https://localhost:8080/"
        },
        "id": "bD9Q0DyPTAA9",
        "outputId": "3a1ae11b-9d22-4319-ddb1-4f99a68988d4"
      },
      "execution_count": 42,
      "outputs": [
        {
          "output_type": "stream",
          "name": "stdout",
          "text": [
            "The highest grow-margin :  49.65\n",
            "The type of customer that has the highest gross income:  350    Member\n",
            "Name: Customertype, dtype: object\n",
            "The highest grow-margin :  99.96\n",
            "It is false that the product with the highest gross income has the highest unit price\n"
          ]
        }
      ]
    },
    {
      "cell_type": "code",
      "source": [
        "a=df.gross_iincome.min()\n",
        "x=df.InvoiceID.loc[(df[\"gross_iincome\"]==a)]\n",
        "print(\"The smallest grow-margin : \",a)\n",
        "print(\"The invoices having the smallest gross income: \",x)\n",
        "y=df[\"Payment\"]\n",
        "c=df[\"gross_iincome\"]\n",
        "import matplotlib.pyplot as plt\n",
        "plt.plot(y,c,\".\",color=\"red\")\n"
      ],
      "metadata": {
        "colab": {
          "base_uri": "https://localhost:8080/",
          "height": 334
        },
        "id": "O3XWaqpyTtNz",
        "outputId": "10c003d9-9665-4f53-e1b9-060b55c7e8a4"
      },
      "execution_count": 43,
      "outputs": [
        {
          "output_type": "stream",
          "name": "stdout",
          "text": [
            "The smallest grow-margin :  0.5085\n",
            "The invoices having the smallest gross income:  822    784-21-9238\n",
            "Name: InvoiceID, dtype: object\n"
          ]
        },
        {
          "output_type": "execute_result",
          "data": {
            "text/plain": [
              "[<matplotlib.lines.Line2D at 0x7fa0e41767c0>]"
            ]
          },
          "metadata": {},
          "execution_count": 43
        },
        {
          "output_type": "display_data",
          "data": {
            "text/plain": [
              "<Figure size 432x288 with 1 Axes>"
            ],
            "image/png": "[encoded data removed]"
          },
          "metadata": {
            "needs_background": "light"
          }
        }
      ]
    },
    {
      "cell_type": "code",
      "source": [
        "y=df[\"Rating\"]\n",
        "c=df[\"Unitprice\"]\n",
        "import matplotlib.pyplot as plt\n",
        "plt.plot(y,c,\".\",color=\"red\")\n",
        "a=df.Rating.max()\n",
        "x=df.Branch.loc[(df[\"Rating\"]==a)]\n",
        "print(\"The  branch that has the best rating:\",x)\n"
      ],
      "metadata": {
        "colab": {
          "base_uri": "https://localhost:8080/",
          "height": 369
        },
        "id": "P3-sJNWiXurc",
        "outputId": "ee56f5ed-19c7-4b7e-a87a-ad9ea779fc33"
      },
      "execution_count": 44,
      "outputs": [
        {
          "output_type": "stream",
          "name": "stdout",
          "text": [
            "The  branch that has the best rating: 60     C\n",
            "62     B\n",
            "159    B\n",
            "387    A\n",
            "853    B\n",
            "Name: Branch, dtype: object\n"
          ]
        },
        {
          "output_type": "display_data",
          "data": {
            "text/plain": [
              "<Figure size 432x288 with 1 Axes>"
            ],
            "image/png": "[encoded data removed]"
          },
          "metadata": {
            "needs_background": "light"
          }
        }
      ]
    },
    {
      "cell_type": "code",
      "source": [],
      "metadata": {
        "id": "7fOauaOLZXcO"
      },
      "execution_count": 44,
      "outputs": []
    }
  ]
}